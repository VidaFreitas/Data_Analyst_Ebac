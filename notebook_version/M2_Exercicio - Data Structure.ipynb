{
  "nbformat": 4,
  "nbformat_minor": 0,
  "metadata": {
    "colab": {
      "provenance": [],
      "toc_visible": true
    },
    "kernelspec": {
      "name": "python3",
      "display_name": "Python 3"
    }
  },
  "cells": [
    {
      "cell_type": "markdown",
      "metadata": {
        "id": "KJqp9AANOCtf"
      },
      "source": [
        "<img src=\"https://raw.githubusercontent.com/andre-marcos-perez/ebac-course-utils/main/media/logo/newebac_logo_black_half.png\" alt=\"ebac-logo\">\n",
        "\n",
        "---\n",
        "\n",
        "# **Módulo** | Python: Estruturas de Dados\n",
        "Caderno de **Exercícios**<br>\n",
        "Professor [André Perez](https://www.linkedin.com/in/andremarcosperez/)\n",
        "\n",
        "---"
      ]
    },
    {
      "cell_type": "markdown",
      "metadata": {
        "id": "d9jDtUbDOE1-"
      },
      "source": [
        "# **Tópicos**\n",
        "\n",
        "<ol type=\"1\">\n",
        "  <li>Listas;</li>\n",
        "  <li>Conjuntos;</li>\n",
        "  <li>Dicionários.</li>\n",
        "</ol>"
      ]
    },
    {
      "cell_type": "markdown",
      "metadata": {
        "id": "SmoHgt-lwkpD"
      },
      "source": [
        "---"
      ]
    },
    {
      "cell_type": "markdown",
      "metadata": {
        "id": "GABI6OW8OfQ2"
      },
      "source": [
        "# **Exercícios**"
      ]
    },
    {
      "cell_type": "markdown",
      "metadata": {
        "id": "muD1vxozykSC"
      },
      "source": [
        "## 1\\. Listas"
      ]
    },
    {
      "cell_type": "markdown",
      "metadata": {
        "id": "ahrFfCuBxJKs"
      },
      "source": [
        "Criei uma lista chamada `filmes` com o nome dos 10 primeiros filmes mais bem avaliados no site no [IMDB](https://www.imdb.com/chart/top/). Imprima o resultado."
      ]
    },
    {
      "cell_type": "code",
      "metadata": {
        "id": "OgL6Hv3bzOHI",
        "colab": {
          "base_uri": "https://localhost:8080/"
        },
        "outputId": "27d6fe0e-a320-4ed7-bb06-04e67b37f7d6"
      },
      "source": [
        "filmes = ['Um sonho de liberdade', 'O poderoso chefao', 'Batman', 'O poderoso chefao II', '12 homens e uma sentenca', 'A lista de Schindler', 'O senhor dos aneis', 'Pulp Fiction', 'O senhor dos aneis: sociedade do anel', 'Tres homens em conflito']\n",
        "\n",
        "print(filmes)"
      ],
      "execution_count": null,
      "outputs": [
        {
          "output_type": "stream",
          "name": "stdout",
          "text": [
            "['Um sonho de liberdade', 'O poderoso chefao', 'Batman', 'O poderoso chefao II', '12 homens e uma sentenca', 'A lista de Schindler', 'O senhor dos aneis', 'Pulp Fiction', 'O senhor dos aneis: sociedade do anel', 'Tres homens em conflito']\n"
          ]
        }
      ]
    },
    {
      "cell_type": "markdown",
      "metadata": {
        "id": "KI9zQRT2xa7m"
      },
      "source": [
        "Simule a movimentação do *ranking*. Utilize os métodos `insert` e `pop` para trocar a posição do primeiro e do segundo filme da lista. Imprima o resultado.\n",
        "\n"
      ]
    },
    {
      "cell_type": "code",
      "metadata": {
        "id": "zX3mA3_GzrXH",
        "colab": {
          "base_uri": "https://localhost:8080/"
        },
        "outputId": "87d98591-c117-414c-86cf-d764c38fb353"
      },
      "source": [
        "primeiro_filme = filmes.pop(0)\n",
        "segundo_filme = filmes.pop(0)\n",
        "\n",
        "print(filmes)\n",
        "\n",
        "filmes.insert(0, segundo_filme)\n",
        "filmes.insert(1, primeiro_filme)\n",
        "\n",
        "print(filmes)"
      ],
      "execution_count": null,
      "outputs": [
        {
          "output_type": "stream",
          "name": "stdout",
          "text": [
            "['Batman', 'O poderoso chefao II', '12 homens e uma sentenca', 'A lista de Schindler', 'O senhor dos aneis', 'Pulp Fiction', 'O senhor dos aneis: sociedade do anel', 'Tres homens em conflito']\n",
            "['O poderoso chefao', 'Um sonho de liberdade', 'Batman', 'O poderoso chefao II', '12 homens e uma sentenca', 'A lista de Schindler', 'O senhor dos aneis', 'Pulp Fiction', 'O senhor dos aneis: sociedade do anel', 'Tres homens em conflito']\n"
          ]
        }
      ]
    },
    {
      "cell_type": "markdown",
      "metadata": {
        "id": "zMN1Q3jdwoJm"
      },
      "source": [
        "---"
      ]
    },
    {
      "cell_type": "markdown",
      "metadata": {
        "id": "lxa5L6uF0ZJE"
      },
      "source": [
        "## 2\\. Conjuntos"
      ]
    },
    {
      "cell_type": "markdown",
      "metadata": {
        "id": "9JahS2Kj0d5u"
      },
      "source": [
        "Aconteceu um erro no seu *ranking*. Simule a duplicação dos três últimos filmes da lista. Imprima o resultado."
      ]
    },
    {
      "cell_type": "code",
      "metadata": {
        "id": "BnjnLBNC6PGe",
        "colab": {
          "base_uri": "https://localhost:8080/"
        },
        "outputId": "c2b5096c-1000-4b46-cb4e-3df6df47c9e2"
      },
      "source": [
        "filmes = ['O poderoso chefao', 'Um sonho de liberdade', 'Batman', 'O poderoso chefao II', '12 homens e uma sentenca', 'A lista de Schindler', 'O senhor dos aneis', 'Pulp Fiction', 'O senhor dos aneis: sociedade do anel', 'Tres homens em conflito']\n",
        "\n",
        "ultimos_filmes = ['Pulp Fiction', 'O senhor dos aneis: sociedade do anel', 'Tres homens em conflito']\n",
        "\n",
        "filmes_duplicados = filmes + ultimos_filmes\n",
        "\n",
        "print(filmes_duplicados)"
      ],
      "execution_count": null,
      "outputs": [
        {
          "output_type": "stream",
          "name": "stdout",
          "text": [
            "['O poderoso chefao', 'Um sonho de liberdade', 'Batman', 'O poderoso chefao II', '12 homens e uma sentenca', 'A lista de Schindler', 'O senhor dos aneis', 'Pulp Fiction', 'O senhor dos aneis: sociedade do anel', 'Tres homens em conflito', 'Pulp Fiction', 'O senhor dos aneis: sociedade do anel', 'Tres homens em conflito']\n"
          ]
        }
      ]
    },
    {
      "cell_type": "markdown",
      "metadata": {
        "id": "suxTfCJB6ZiX"
      },
      "source": [
        "Utiliza a conversão `set` e `list` para remover os valores duplicados. Imprima o resultado."
      ]
    },
    {
      "cell_type": "code",
      "metadata": {
        "id": "ZvUGN-0n6joM",
        "colab": {
          "base_uri": "https://localhost:8080/"
        },
        "outputId": "cf237622-5a7e-475f-e66f-e54b4f2a27a3"
      },
      "source": [
        "filmes_duplicados = list(set(filmes + ultimos_filmes))\n",
        "\n",
        "print(filmes_duplicados)\n",
        "print(len(filmes_duplicados))"
      ],
      "execution_count": null,
      "outputs": [
        {
          "output_type": "stream",
          "name": "stdout",
          "text": [
            "['Tres homens em conflito', 'Pulp Fiction', 'O poderoso chefao II', 'O poderoso chefao', 'Batman', 'A lista de Schindler', 'O senhor dos aneis: sociedade do anel', 'Um sonho de liberdade', 'O senhor dos aneis', '12 homens e uma sentenca']\n",
            "10\n"
          ]
        }
      ]
    },
    {
      "cell_type": "markdown",
      "metadata": {
        "id": "ShkK35eQ6pAM"
      },
      "source": [
        "---"
      ]
    },
    {
      "cell_type": "markdown",
      "metadata": {
        "id": "EL_FzmxL6rTv"
      },
      "source": [
        "## 3\\. Dicionários"
      ]
    },
    {
      "cell_type": "markdown",
      "metadata": {
        "id": "i8l0gFqRCpfT"
      },
      "source": [
        "Repita os exercícios da parte 1 (listas). Os elementos da lista `filmes` devem ser dicionários no seguinte formato: `{'nome': <nome-do-filme>, 'ano': <ano do filme>, 'sinopse': <sinopse do filme>}`."
      ]
    },
    {
      "cell_type": "code",
      "metadata": {
        "id": "tu6MSFwGDnHv",
        "colab": {
          "base_uri": "https://localhost:8080/"
        },
        "outputId": "3e8db832-2997-40d3-8754-0f13ca91e2da"
      },
      "source": [
        "dicionario_filmes = []\n",
        "\n",
        "filmes = {'nome': 'Um sonho de liberdade', 'ano': '1994', 'sinopse': 'Dois homens presos se reúnem ao longo de vários anos, encontrando consolo e eventual redenção através de atos de decência comum.'}\n",
        "dicionario_filmes.append(filmes)\n",
        "\n",
        "filmes = {'nome': 'O poderoso chefao', 'ano': '1972', 'sinopse': 'O patriarca idoso de uma dinastia do crime organizado transfere o controle de seu império clandestino para seu filho relutante.'}\n",
        "dicionario_filmes.append(filmes)\n",
        "\n",
        "filmes = {'nome': 'Batman', 'ano': '2008', 'sinopse': 'Quando a ameaça conhecida como O Coringa surge de seu passado, causa estragos e caos nas pessoas de Gotham. O Cavaleiro das Trevas deve aceitar um dos maiores testes para combater a injustiça.'}\n",
        "dicionario_filmes.append(filmes)\n",
        "\n",
        "filmes = {'nome': 'O poderoso chefao II', 'ano': '1974', 'sinopse': 'Em 1950, Michael Corleone, agora à frente da família, tenta expandir o negócio do crime a Las Vegas, Los Angeles e Cuba. Paralelamente, é revelada a história de Vito Corleone, e de como saiu da Sicília e chegou a Nova Iorque.'}\n",
        "dicionario_filmes.append(filmes)\n",
        "\n",
        "filmes = {'nome': '12 homens e uma sentenca', 'ano': '1957', 'sinopse': 'O julgamento de um assassinato em Nova Iorque é frustrado por um único membro, cujo ceticismo forca o júri a considerar cuidadosamente evidências antes de dar o veredito.'}\n",
        "dicionario_filmes.append(filmes)\n",
        "\n",
        "filmes = {'nome': 'A lista de Schindler', 'ano': '1993', 'sinopse': 'Na Polônia ocupada pelos alemães durante a Segunda Guerra Mundial, o industrial Oskar Schindler começa a ser preocupar com seus trabalhadores judeus depois de testemunhar sua perseguição pelos nazistas.'}\n",
        "dicionario_filmes.append(filmes)\n",
        "\n",
        "filmes = {'nome': 'O senhor dos aneis', 'ano': '2003', 'sinopse': 'Gandalf e Aragorn lideram o Mundo dos Homens contra o exército de Sauron para desviar o olhar de Frodo e Sam quando eles se aproximam á Montanha da Perdição com o Um Anel.'}\n",
        "dicionario_filmes.append(filmes)\n",
        "\n",
        "filmes = {'nome': 'Pulp Fiction', 'ano': '1994', 'sinopse': 'As vidas de dois assassinos da máfia, um boxeador, um gângster e sua esposa, e um par de bandidos se entrelaçam em quatro histórias de violência e redenção.'}\n",
        "dicionario_filmes.append(filmes)\n",
        "\n",
        "filmes = {'nome': 'O senhor dos aneis: sociedade do anel', 'ano': '2001', 'sinopse': 'Um manso hobbit do Condado e oito companheiros partem em uma jornada para destruir o poderoso Um Anel e salvar a Terra-média das Trevas.'}\n",
        "dicionario_filmes.append(filmes)\n",
        "\n",
        "filmes = {'nome': 'Tres homens em conflito', 'ano': '1966', 'sinopse': 'Um impostor se junta com dois homens para encontrar fortuna num remoto cemitério.'}\n",
        "dicionario_filmes.append(filmes)\n",
        "\n",
        "print(dicionario_filmes)"
      ],
      "execution_count": 1,
      "outputs": [
        {
          "output_type": "stream",
          "name": "stdout",
          "text": [
            "[{'nome': 'Um sonho de liberdade', 'ano': '1994', 'sinopse': 'Dois homens presos se reúnem ao longo de vários anos, encontrando consolo e eventual redenção através de atos de decência comum.'}, {'nome': 'O poderoso chefao', 'ano': '1972', 'sinopse': 'O patriarca idoso de uma dinastia do crime organizado transfere o controle de seu império clandestino para seu filho relutante.'}, {'nome': 'Batman', 'ano': '2008', 'sinopse': 'Quando a ameaça conhecida como O Coringa surge de seu passado, causa estragos e caos nas pessoas de Gotham. O Cavaleiro das Trevas deve aceitar um dos maiores testes para combater a injustiça.'}, {'nome': 'O poderoso chefao II', 'ano': '1974', 'sinopse': 'Em 1950, Michael Corleone, agora à frente da família, tenta expandir o negócio do crime a Las Vegas, Los Angeles e Cuba. Paralelamente, é revelada a história de Vito Corleone, e de como saiu da Sicília e chegou a Nova Iorque.'}, {'nome': '12 homens e uma sentenca', 'ano': '1957', 'sinopse': 'O julgamento de um assassinato em Nova Iorque é frustrado por um único membro, cujo ceticismo forca o júri a considerar cuidadosamente evidências antes de dar o veredito.'}, {'nome': 'A lista de Schindler', 'ano': '1993', 'sinopse': 'Na Polônia ocupada pelos alemães durante a Segunda Guerra Mundial, o industrial Oskar Schindler começa a ser preocupar com seus trabalhadores judeus depois de testemunhar sua perseguição pelos nazistas.'}, {'nome': 'O senhor dos aneis', 'ano': '2003', 'sinopse': 'Gandalf e Aragorn lideram o Mundo dos Homens contra o exército de Sauron para desviar o olhar de Frodo e Sam quando eles se aproximam á Montanha da Perdição com o Um Anel.'}, {'nome': 'Pulp Fiction', 'ano': '1994', 'sinopse': 'As vidas de dois assassinos da máfia, um boxeador, um gângster e sua esposa, e um par de bandidos se entrelaçam em quatro histórias de violência e redenção.'}, {'nome': 'O senhor dos aneis: sociedade do anel', 'ano': '2001', 'sinopse': 'Um manso hobbit do Condado e oito companheiros partem em uma jornada para destruir o poderoso Um Anel e salvar a Terra-média das Trevas.'}, {'nome': 'Tres homens em conflito', 'ano': '1966', 'sinopse': 'Um impostor se junta com dois homens para encontrar fortuna num remoto cemitério.'}]\n"
          ]
        }
      ]
    }
  ]
}