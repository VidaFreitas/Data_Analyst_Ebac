{
  "nbformat": 4,
  "nbformat_minor": 0,
  "metadata": {
    "colab": {
      "provenance": [],
      "toc_visible": true
    },
    "kernelspec": {
      "name": "python3",
      "display_name": "Python 3"
    }
  },
  "cells": [
    {
      "cell_type": "markdown",
      "metadata": {
        "id": "KJqp9AANOCtf"
      },
      "source": [
        "<img src=\"https://raw.githubusercontent.com/andre-marcos-perez/ebac-course-utils/main/media/logo/newebac_logo_black_half.png\" alt=\"ebac-logo\">\n",
        "\n",
        "---\n",
        "\n",
        "# **Módulo** | Python: Variáveis & Tipos de Dados\n",
        "Caderno de **Exercícios**<br>\n",
        "Professor [André Perez](https://www.linkedin.com/in/andremarcosperez/)\n",
        "\n",
        "---"
      ]
    },
    {
      "cell_type": "markdown",
      "metadata": {
        "id": "d9jDtUbDOE1-"
      },
      "source": [
        "# **Tópicos**\n",
        "\n",
        "<ol type=\"1\">\n",
        "  <li>Introdução ao Google Colab;</li>\n",
        "  <li>Variáveis;</li>\n",
        "  <li>Números;</li>\n",
        "  <li><i>Strings;</i></li>\n",
        "  <li>Boleanos.</li>\n",
        "</ol>"
      ]
    },
    {
      "cell_type": "markdown",
      "metadata": {
        "id": "SmoHgt-lwkpD"
      },
      "source": [
        "---"
      ]
    },
    {
      "cell_type": "markdown",
      "metadata": {
        "id": "GABI6OW8OfQ2"
      },
      "source": [
        "# **Exercícios**"
      ]
    },
    {
      "cell_type": "markdown",
      "metadata": {
        "id": "muD1vxozykSC"
      },
      "source": [
        "## 1\\. Google Colab"
      ]
    },
    {
      "cell_type": "markdown",
      "metadata": {
        "id": "ahrFfCuBxJKs"
      },
      "source": [
        "Crie uma célula de código que escreva o texto \"Olá mundo!\", utilize o comando `print`."
      ]
    },
    {
      "cell_type": "markdown",
      "metadata": {
        "id": "KI9zQRT2xa7m"
      },
      "source": [
        "Crie uma célua de texto e adicione uma imagem."
      ]
    },
    {
      "cell_type": "markdown",
      "metadata": {
        "id": "zMN1Q3jdwoJm"
      },
      "source": [
        "---"
      ]
    },
    {
      "cell_type": "markdown",
      "metadata": {
        "id": "tFYOPLS3xiwe"
      },
      "source": [
        "## 2\\. Números"
      ]
    },
    {
      "cell_type": "markdown",
      "metadata": {
        "id": "O2G9gt7tx2c-"
      },
      "source": [
        "Preencha as células de código para preencher os valores de (A), (B) e (C) na tabela de ticket médio abaixo:\n",
        "\n",
        "<br>\n",
        "\n",
        "| Dia   | Valor Total Vendas | Qtd Total Vendas | Ticket Medio |\n",
        "|-------|--------------------|------------------|--------------|\n",
        "| 19/01 | (A)                | 3                | 320.52       |\n",
        "| 20/01 | 834.47             | (B)              | 119.21       |\n",
        "| 23/01 | 15378.12           | 5                | (C)          |"
      ]
    },
    {
      "cell_type": "code",
      "metadata": {
        "id": "nsrKH9EizNRD",
        "colab": {
          "base_uri": "https://localhost:8080/"
        },
        "outputId": "cc473c31-9df2-44fc-fdde-2ac03861f3db"
      },
      "source": [
        "# (A)\n",
        "\n",
        "qtd_vendas = 3\n",
        "tkt_medio = 320.52\n",
        "\n",
        "A = qtd_vendas * tkt_medio\n",
        "print(A)"
      ],
      "execution_count": 5,
      "outputs": [
        {
          "output_type": "stream",
          "name": "stdout",
          "text": [
            "961.56\n"
          ]
        }
      ]
    },
    {
      "cell_type": "code",
      "metadata": {
        "id": "QQ1GBGHJzMmi",
        "colab": {
          "base_uri": "https://localhost:8080/"
        },
        "outputId": "a5d9d811-787d-43ec-d9f1-36a08e733bae"
      },
      "source": [
        "# (B)\n",
        "\n",
        "valor_vendas = 834.47\n",
        "tkt_medio = 119.21\n",
        "\n",
        "B = valor_vendas / tkt_medio\n",
        "print(B)"
      ],
      "execution_count": 6,
      "outputs": [
        {
          "output_type": "stream",
          "name": "stdout",
          "text": [
            "7.000000000000001\n"
          ]
        }
      ]
    },
    {
      "cell_type": "code",
      "metadata": {
        "id": "W-li0nSMzKNa",
        "colab": {
          "base_uri": "https://localhost:8080/"
        },
        "outputId": "340ffc0a-ca62-40d3-f9ba-a26f3db57a65"
      },
      "source": [
        "# (C)\n",
        "\n",
        "valor_vendas = 15378.12\n",
        "total_vendas = 5\n",
        "\n",
        "c = valor_vendas / total_vendas\n",
        "print(c)"
      ],
      "execution_count": 4,
      "outputs": [
        {
          "output_type": "stream",
          "name": "stdout",
          "text": [
            "3075.6240000000003\n"
          ]
        }
      ]
    },
    {
      "cell_type": "markdown",
      "metadata": {
        "id": "3eoP-Vj9yzh8"
      },
      "source": [
        "---"
      ]
    },
    {
      "cell_type": "markdown",
      "metadata": {
        "id": "yUJ6kdony6Pr"
      },
      "source": [
        "## 3\\. Strings"
      ]
    },
    {
      "cell_type": "markdown",
      "metadata": {
        "id": "KDuZpg-5zCvO"
      },
      "source": [
        "Aplique três métodos distintos na *string* abaixo, você pode conferir alguns métodos neste [link](https://www.w3schools.com/python/python_ref_string.asp):"
      ]
    },
    {
      "cell_type": "code",
      "metadata": {
        "id": "k9zbyf7BzjKj",
        "colab": {
          "base_uri": "https://localhost:8080/"
        },
        "outputId": "0fe61cb5-b7d8-4eb7-c2d6-8bb3f5e4a877"
      },
      "source": [
        "cancao = 'roda mundo, roda gigante, roda moinho, roda pião.'\n",
        "\n",
        "new_cancao = cancao.replace('roda', 'gira')\n",
        "print(new_cancao)"
      ],
      "execution_count": 8,
      "outputs": [
        {
          "output_type": "stream",
          "name": "stdout",
          "text": [
            "gira mundo, gira gigante, gira moinho, gira pião.\n"
          ]
        }
      ]
    },
    {
      "cell_type": "code",
      "source": [
        "cancao = 'roda mundo, roda gigante, roda moinho, roda pião.'\n",
        "\n",
        "print(cancao.upper())"
      ],
      "metadata": {
        "colab": {
          "base_uri": "https://localhost:8080/"
        },
        "id": "XIo0keWgx2xG",
        "outputId": "5be6e530-f419-4e5d-8352-33fafdca1de9"
      },
      "execution_count": 9,
      "outputs": [
        {
          "output_type": "stream",
          "name": "stdout",
          "text": [
            "RODA MUNDO, RODA GIGANTE, RODA MOINHO, RODA PIÃO.\n"
          ]
        }
      ]
    },
    {
      "cell_type": "code",
      "source": [
        "cancao = 'roda mundo, roda gigante, roda moinho, roda pião.'\n",
        "\n",
        "X = \" - \".join(cancao)\n",
        "print(X)"
      ],
      "metadata": {
        "colab": {
          "base_uri": "https://localhost:8080/"
        },
        "id": "c_sJPKa9yL4u",
        "outputId": "c1fe9a10-447c-4b4e-b149-1044bae2f7cf"
      },
      "execution_count": 13,
      "outputs": [
        {
          "output_type": "stream",
          "name": "stdout",
          "text": [
            "r - o - d - a -   - m - u - n - d - o - , -   - r - o - d - a -   - g - i - g - a - n - t - e - , -   - r - o - d - a -   - m - o - i - n - h - o - , -   - r - o - d - a -   - p - i - ã - o - .\n"
          ]
        }
      ]
    },
    {
      "cell_type": "markdown",
      "metadata": {
        "id": "guZMHXVq0FnC"
      },
      "source": [
        "Extraia da string abaixo o valor da taxa **selic** na variável `selic` e o valor do **ano** na variavel `ano`. Imprima os valores na tela."
      ]
    },
    {
      "cell_type": "code",
      "metadata": {
        "id": "cbx_P4IQ0agK",
        "colab": {
          "base_uri": "https://localhost:8080/"
        },
        "outputId": "4ec364c2-9bc1-425c-cdaf-037a1e472cf7"
      },
      "source": [
        "noticia = 'Selic vai a 2,75% e supera expectativas; é a primeira alta em 6 anos.'\n",
        "\n",
        "inicio_selic = noticia.find('2,75%')\n",
        "fim_selic = inicio_selic + len('2,75%')\n",
        "selic = noticia[inicio_selic:fim_selic]\n",
        "print(selic)\n",
        "\n",
        "\n",
        "inicio_ano = noticia.find('em ') + len('em ')\n",
        "fim_ano = inicio_ano + len('6 ')\n",
        "ano = noticia[inicio_ano:fim_ano]\n",
        "print(ano)\n"
      ],
      "execution_count": 27,
      "outputs": [
        {
          "output_type": "stream",
          "name": "stdout",
          "text": [
            "2,75%\n",
            "6 \n"
          ]
        }
      ]
    },
    {
      "cell_type": "markdown",
      "metadata": {
        "id": "wWzbu-OC0z3L"
      },
      "source": [
        "---"
      ]
    },
    {
      "cell_type": "markdown",
      "metadata": {
        "id": "no8w_Ati01xP"
      },
      "source": [
        "## 4\\. Booleanos"
      ]
    },
    {
      "cell_type": "markdown",
      "metadata": {
        "id": "D_0tC3SC099N"
      },
      "source": [
        "Utilize a tabela da verdade para responder: qual o valor da variável x?"
      ]
    },
    {
      "cell_type": "code",
      "metadata": {
        "id": "XwIEbxf91SpU"
      },
      "source": [
        "a = False\n",
        "b = True\n",
        "\n",
        "x = not a & b\n",
        "\n",
        "# not a & b é 'True & False', que é False. Portanto, a variavel X é False."
      ],
      "execution_count": 28,
      "outputs": []
    }
  ]
}